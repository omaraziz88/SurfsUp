{
 "cells": [
  {
   "cell_type": "code",
   "execution_count": 149,
   "metadata": {},
   "outputs": [],
   "source": [
    "%matplotlib inline\n",
    "from matplotlib import style\n",
    "style.use('fivethirtyeight')\n",
    "import matplotlib.pyplot as plt\n",
    "from collections import Counter\n",
    "from itertools import repeat, chain"
   ]
  },
  {
   "cell_type": "code",
   "execution_count": 2,
   "metadata": {},
   "outputs": [],
   "source": [
    "import numpy as np\n",
    "import pandas as pd"
   ]
  },
  {
   "cell_type": "code",
   "execution_count": 3,
   "metadata": {},
   "outputs": [],
   "source": [
    "import datetime as dt"
   ]
  },
  {
   "cell_type": "code",
   "execution_count": 19,
   "metadata": {},
   "outputs": [],
   "source": [
    " # Python SQL toolkit and Object Relational Mapper\n",
    "import sqlalchemy\n",
    "from sqlalchemy.ext.automap import automap_base\n",
    "from sqlalchemy.orm import Session\n",
    "from sqlalchemy import create_engine, func, inspect"
   ]
  },
  {
   "cell_type": "code",
   "execution_count": 24,
   "metadata": {},
   "outputs": [],
   "source": [
    "engine = create_engine(\"sqlite:///hawaii.sqlite\")"
   ]
  },
  {
   "cell_type": "code",
   "execution_count": 14,
   "metadata": {},
   "outputs": [],
   "source": [
    "# reflect an existing database into a new model\n",
    "Base = automap_base()\n",
    "# reflect the tables\n",
    "Base.prepare(engine, reflect=True)"
   ]
  },
  {
   "cell_type": "code",
   "execution_count": 15,
   "metadata": {},
   "outputs": [
    {
     "data": {
      "text/plain": [
       "['measurement', 'station']"
      ]
     },
     "execution_count": 15,
     "metadata": {},
     "output_type": "execute_result"
    }
   ],
   "source": [
    "# We can view all of the classes that automap found\n",
    "Base.classes.keys()"
   ]
  },
  {
   "cell_type": "code",
   "execution_count": 249,
   "metadata": {},
   "outputs": [],
   "source": [
    "# Save references to each table\n",
    "Measurement = Base.classes.measurement\n",
    "Station = Base.classes.station"
   ]
  },
  {
   "cell_type": "code",
   "execution_count": 17,
   "metadata": {},
   "outputs": [],
   "source": [
    "# Create our session (link) from Python to the DB\n",
    "session = Session(engine)"
   ]
  },
  {
   "cell_type": "code",
   "execution_count": 26,
   "metadata": {},
   "outputs": [
    {
     "data": {
      "text/plain": [
       "['measurement', 'station']"
      ]
     },
     "execution_count": 26,
     "metadata": {},
     "output_type": "execute_result"
    }
   ],
   "source": [
    "inspector = inspect(engine)\n",
    "inspector.get_table_names()"
   ]
  },
  {
   "cell_type": "code",
   "execution_count": 27,
   "metadata": {},
   "outputs": [
    {
     "name": "stdout",
     "output_type": "stream",
     "text": [
      "id INTEGER\n",
      "station TEXT\n",
      "date TEXT\n",
      "prcp FLOAT\n",
      "tobs FLOAT\n"
     ]
    }
   ],
   "source": [
    "columns = inspector.get_columns('measurement')\n",
    "for c in columns:\n",
    "    print(c['name'], c[\"type\"])"
   ]
  },
  {
   "cell_type": "code",
   "execution_count": 28,
   "metadata": {},
   "outputs": [
    {
     "name": "stdout",
     "output_type": "stream",
     "text": [
      "id INTEGER\n",
      "station TEXT\n",
      "name TEXT\n",
      "latitude FLOAT\n",
      "longitude FLOAT\n",
      "elevation FLOAT\n"
     ]
    }
   ],
   "source": [
    "columns = inspector.get_columns('station')\n",
    "for c in columns:\n",
    "    print(c['name'], c[\"type\"])"
   ]
  },
  {
   "cell_type": "code",
   "execution_count": 61,
   "metadata": {},
   "outputs": [],
   "source": [
    "sel = [Measurement.date, func.sum(Measurement.prcp)]"
   ]
  },
  {
   "cell_type": "code",
   "execution_count": 244,
   "metadata": {},
   "outputs": [
    {
     "data": {
      "text/plain": [
       "[('2016-08-01', 2515.0),\n",
       " ('2016-08-01', 73.0),\n",
       " ('2016-08-01', 76.0),\n",
       " ('2016-08-01', 76.0),\n",
       " ('2016-08-02', 4549.0),\n",
       " ('2016-08-02', 1350.0),\n",
       " ('2016-08-02', 439.0),\n",
       " ('2016-08-02', 224.0),\n",
       " ('2016-08-02', 72.0),\n",
       " ('2016-08-03', 68925.0),\n",
       " ('2016-08-04', 3619.0),\n",
       " ('2016-08-04', 294.0),\n",
       " ('2016-08-04', 149.0),\n",
       " ('2016-08-05', 8053.0),\n",
       " ('2016-08-07', 1354.0),\n",
       " ('2016-08-07', 295.0),\n",
       " ('2016-08-07', 229.0),\n",
       " ('2016-08-07', 148.0),\n",
       " ('2016-08-08', 9106.0),\n",
       " ('2016-08-08', 598.0),\n",
       " ('2016-08-14', 1209.0),\n",
       " ('2016-08-14', 145.0),\n",
       " ('2016-08-16', 2490.0),\n",
       " ('2016-08-16', 142.0),\n",
       " ('2016-08-21', 2399.0),\n",
       " ('2016-08-22', 844.0),\n",
       " ('2016-08-22', 154.0),\n",
       " ('2016-08-22', 147.0),\n",
       " ('2016-08-22', 78.0),\n",
       " ('2016-08-23', 145.0),\n",
       " ('2016-08-24', 79.0),\n",
       " ('2016-08-24', 153.0),\n",
       " ('2016-08-24', 80.0),\n",
       " ('2016-08-28', 71.0),\n",
       " ('2016-08-31', 1849.0),\n",
       " ('2016-08-31', 76.0),\n",
       " ('2016-09-04', 5972.0),\n",
       " ('2016-09-04', 158.0),\n",
       " ('2016-09-05', 16953.0),\n",
       " ('2016-09-05', 1868.0),\n",
       " ('2016-09-07', 216.0),\n",
       " ('2016-09-08', 811.0),\n",
       " ('2016-09-13', 359.0),\n",
       " ('2016-09-13', 224.0),\n",
       " ('2016-09-14', 365.0),\n",
       " ('2016-09-14', 139.0),\n",
       " ('2016-09-14', 149.0),\n",
       " ('2016-09-14', 75.0),\n",
       " ('2016-09-14', 73.0),\n",
       " ('2016-09-15', 434.0),\n",
       " ('2016-09-15', 73.0),\n",
       " ('2016-09-16', 4369.0),\n",
       " ('2016-09-20', 1703.0),\n",
       " ('2016-09-21', 221.0),\n",
       " ('2016-09-29', 145.0),\n",
       " ('2016-09-29', 77.0),\n",
       " ('2016-10-04', 74.0),\n",
       " ('2016-10-05', 223.0),\n",
       " ('2016-10-22', 1675.0),\n",
       " ('2016-10-22', 75.0),\n",
       " ('2016-10-27', 71.0),\n",
       " ('2016-10-30', 670.0),\n",
       " ('2016-11-08', 3241.0),\n",
       " ('2016-11-16', 72.0),\n",
       " ('2016-11-21', 71.0),\n",
       " ('2016-11-22', 298.0),\n",
       " ('2016-11-22', 75.0),\n",
       " ('2016-11-22', 73.0),\n",
       " ('2016-11-23', 2023.0),\n",
       " ('2016-11-24', 208.0),\n",
       " ('2016-11-25', 138.0),\n",
       " ('2016-12-02', 71.0),\n",
       " ('2016-12-05', 518.0),\n",
       " ('2016-12-05', 213.0),\n",
       " ('2016-12-05', 67.0),\n",
       " ('2016-12-09', 223.0),\n",
       " ('2016-12-14', 68.0),\n",
       " ('2016-12-18', 644.0),\n",
       " ('2016-12-19', 740.0),\n",
       " ('2016-12-22', 73.0),\n",
       " ('2016-12-22', 68.0),\n",
       " ('2016-12-29', 300.0),\n",
       " ('2016-12-30', 65.0),\n",
       " ('2017-01-06', 291.0),\n",
       " ('2017-01-22', 1065.0),\n",
       " ('2017-01-24', 67.0),\n",
       " ('2017-01-25', 212.0),\n",
       " ('2017-01-25', 69.0),\n",
       " ('2017-01-29', 824.0),\n",
       " ('2017-02-07', 130.0),\n",
       " ('2017-02-07', 277.0),\n",
       " ('2017-02-07', 72.0),\n",
       " ('2017-02-11', 677.0),\n",
       " ('2017-02-11', 430.0),\n",
       " ('2017-02-11', 68.0),\n",
       " ('2017-02-11', 69.0),\n",
       " ('2017-02-11', 70.0),\n",
       " ('2017-02-12', 67.0),\n",
       " ('2017-02-12', 65.0),\n",
       " ('2017-02-12', 76.0),\n",
       " ('2017-02-12', 68.0),\n",
       " ('2017-02-12', 70.0),\n",
       " ('2017-02-13', 69.0),\n",
       " ('2017-02-16', 72.0),\n",
       " ('2017-02-17', 270.0),\n",
       " ('2017-03-01', 143.0),\n",
       " ('2017-03-01', 222.0),\n",
       " ('2017-03-01', 64.0),\n",
       " ('2017-03-01', 71.0),\n",
       " ('2017-03-01', 72.0),\n",
       " ('2017-03-01', 143.0),\n",
       " ('2017-03-02', 293.0),\n",
       " ('2017-03-02', 274.0),\n",
       " ('2017-03-02', 147.0),\n",
       " ('2017-03-02', 146.0),\n",
       " ('2017-03-02', 73.0),\n",
       " ('2017-03-03', 289.0),\n",
       " ('2017-03-03', 150.0),\n",
       " ('2017-03-05', 874.0),\n",
       " ('2017-03-09', 520.0),\n",
       " ('2017-03-09', 210.0),\n",
       " ('2017-03-17', 448.0),\n",
       " ('2017-03-24', 288.0),\n",
       " ('2017-03-25', 76.0),\n",
       " ('2017-04-13', 597.0),\n",
       " ('2017-04-14', 662.0),\n",
       " ('2017-04-14', 141.0),\n",
       " ('2017-04-14', 147.0),\n",
       " ('2017-04-14', 72.0),\n",
       " ('2017-04-15', 359.0),\n",
       " ('2017-04-15', 359.0),\n",
       " ('2017-04-17', 199.0),\n",
       " ('2017-04-18', 71.0),\n",
       " ('2017-04-18', 68.0),\n",
       " ('2017-04-21', 681.0),\n",
       " ('2017-04-21', 70.0),\n",
       " ('2017-04-21', 145.0),\n",
       " ('2017-04-21', 69.0),\n",
       " ('2017-04-21', 70.0),\n",
       " ('2017-04-22', 526.0),\n",
       " ('2017-04-22', 447.0),\n",
       " ('2017-04-22', 74.0),\n",
       " ('2017-04-22', 139.0),\n",
       " ('2017-04-28', 67.0),\n",
       " ('2017-04-28', 70.0),\n",
       " ('2017-04-29', 292.0),\n",
       " ('2017-04-29', 70.0),\n",
       " ('2017-04-30', 63.0),\n",
       " ('2017-04-30', 63.0),\n",
       " ('2017-04-30', 61.0),\n",
       " ('2017-04-30', 64.0),\n",
       " ('2017-05-05', 386.0),\n",
       " ('2017-05-08', 66.0),\n",
       " ('2017-05-09', 297.0),\n",
       " ('2017-05-09', 141.0),\n",
       " ('2017-05-24', 294.0),\n",
       " ('2017-05-24', 297.0),\n",
       " ('2017-05-24', 70.0),\n",
       " ('2017-05-25', 75.0),\n",
       " ('2017-06-04', 77.0),\n",
       " ('2017-06-10', 149.0),\n",
       " ('2017-06-13', 379.0),\n",
       " ('2017-06-15', 77.0),\n",
       " ('2017-06-18', 1124.0),\n",
       " ('2017-07-22', 72.0),\n",
       " ('2017-07-24', 77.0)]"
      ]
     },
     "execution_count": 244,
     "metadata": {},
     "output_type": "execute_result"
    }
   ],
   "source": [
    "# Design a query to retrieve the last 12 months of precipitation data and plot the results\n",
    "\n",
    "# Calculate the date 1 year ago from the last data point in the database\n",
    "\n",
    "# Perform a query to retrieve the data and precipitation scores\n",
    "\n",
    "# Save the query results as a Pandas DataFrame and set the index to the date column\n",
    "\n",
    "# Sort the dataframe by date\n",
    "\n",
    "rainy_days = session.query(*sel).filter(func.strftime(\"%Y/%m\", Measurement.date) >= \"2016/08\").group_by(Measurement.prcp).order_by(Measurement.date).all()\n",
    "rainy_days"
   ]
  },
  {
   "cell_type": "code",
   "execution_count": 86,
   "metadata": {},
   "outputs": [
    {
     "data": {
      "image/png": "[encoded data removed]",
      "text/plain": [
       "<Figure size 432x288 with 1 Axes>"
      ]
     },
     "metadata": {},
     "output_type": "display_data"
    }
   ],
   "source": [
    "# Use Pandas Plotting with Matplotlib to plot the data\n",
    "df = pd.DataFrame(rainy_days, columns=['date', 'prcp'])\n",
    "df.set_index('date', inplace=False)\n",
    "plot = df.plot.bar()\n",
    "plt.setp(plot.get_xticklabels(), visible=False)\n",
    "plt.show()"
   ]
  },
  {
   "cell_type": "code",
   "execution_count": 87,
   "metadata": {},
   "outputs": [
    {
     "data": {
      "text/html": [
       "<div>\n",
       "<style scoped>\n",
       "    .dataframe tbody tr th:only-of-type {\n",
       "        vertical-align: middle;\n",
       "    }\n",
       "\n",
       "    .dataframe tbody tr th {\n",
       "        vertical-align: top;\n",
       "    }\n",
       "\n",
       "    .dataframe thead th {\n",
       "        text-align: right;\n",
       "    }\n",
       "</style>\n",
       "<table border=\"1\" class=\"dataframe\">\n",
       "  <thead>\n",
       "    <tr style=\"text-align: right;\">\n",
       "      <th></th>\n",
       "      <th>prcp</th>\n",
       "    </tr>\n",
       "  </thead>\n",
       "  <tbody>\n",
       "    <tr>\n",
       "      <th>count</th>\n",
       "      <td>165.000000</td>\n",
       "    </tr>\n",
       "    <tr>\n",
       "      <th>mean</th>\n",
       "      <td>2.380970</td>\n",
       "    </tr>\n",
       "    <tr>\n",
       "      <th>std</th>\n",
       "      <td>1.130976</td>\n",
       "    </tr>\n",
       "    <tr>\n",
       "      <th>min</th>\n",
       "      <td>0.000000</td>\n",
       "    </tr>\n",
       "    <tr>\n",
       "      <th>25%</th>\n",
       "      <td>1.560000</td>\n",
       "    </tr>\n",
       "    <tr>\n",
       "      <th>50%</th>\n",
       "      <td>2.250000</td>\n",
       "    </tr>\n",
       "    <tr>\n",
       "      <th>75%</th>\n",
       "      <td>2.920000</td>\n",
       "    </tr>\n",
       "    <tr>\n",
       "      <th>max</th>\n",
       "      <td>6.700000</td>\n",
       "    </tr>\n",
       "  </tbody>\n",
       "</table>\n",
       "</div>"
      ],
      "text/plain": [
       "             prcp\n",
       "count  165.000000\n",
       "mean     2.380970\n",
       "std      1.130976\n",
       "min      0.000000\n",
       "25%      1.560000\n",
       "50%      2.250000\n",
       "75%      2.920000\n",
       "max      6.700000"
      ]
     },
     "execution_count": 87,
     "metadata": {},
     "output_type": "execute_result"
    }
   ],
   "source": [
    "# Use Pandas to calcualte the summary statistics for the precipitation data\n",
    "df.describe()"
   ]
  },
  {
   "cell_type": "code",
   "execution_count": 193,
   "metadata": {},
   "outputs": [
    {
     "data": {
      "text/plain": [
       "[('USC00519397', 'USC00519397'),\n",
       " ('USC00519397', 'USC00513117'),\n",
       " ('USC00519397', 'USC00514830'),\n",
       " ('USC00519397', 'USC00517948'),\n",
       " ('USC00519397', 'USC00518838'),\n",
       " ('USC00519397', 'USC00519523'),\n",
       " ('USC00519397', 'USC00519281'),\n",
       " ('USC00519397', 'USC00511918'),\n",
       " ('USC00519397', 'USC00516128'),\n",
       " ('USC00519397', 'USC00519397'),\n",
       " ('USC00519397', 'USC00513117'),\n",
       " ('USC00519397', 'USC00514830'),\n",
       " ('USC00519397', 'USC00517948'),\n",
       " ('USC00519397', 'USC00518838'),\n",
       " ('USC00519397', 'USC00519523'),\n",
       " ('USC00519397', 'USC00519281'),\n",
       " ('USC00519397', 'USC00511918'),\n",
       " ('USC00519397', 'USC00516128'),\n",
       " ('USC00519397', 'USC00519397'),\n",
       " ('USC00519397', 'USC00513117'),\n",
       " ('USC00519397', 'USC00514830'),\n",
       " ('USC00519397', 'USC00517948'),\n",
       " ('USC00519397', 'USC00518838'),\n",
       " ('USC00519397', 'USC00519523'),\n",
       " ('USC00519397', 'USC00519281'),\n",
       " ('USC00519397', 'USC00511918'),\n",
       " ('USC00519397', 'USC00516128'),\n",
       " ('USC00519397', 'USC00519397'),\n",
       " ('USC00519397', 'USC00513117'),\n",
       " ('USC00519397', 'USC00514830'),\n",
       " ('USC00519397', 'USC00517948'),\n",
       " ('USC00519397', 'USC00518838'),\n",
       " ('USC00519397', 'USC00519523'),\n",
       " ('USC00519397', 'USC00519281'),\n",
       " ('USC00519397', 'USC00511918'),\n",
       " ('USC00519397', 'USC00516128'),\n",
       " ('USC00519397', 'USC00519397'),\n",
       " ('USC00519397', 'USC00513117'),\n",
       " ('USC00519397', 'USC00514830'),\n",
       " ('USC00519397', 'USC00517948'),\n",
       " ('USC00519397', 'USC00518838'),\n",
       " ('USC00519397', 'USC00519523'),\n",
       " ('USC00519397', 'USC00519281'),\n",
       " ('USC00519397', 'USC00511918'),\n",
       " ('USC00519397', 'USC00516128'),\n",
       " ('USC00519397', 'USC00519397'),\n",
       " ('USC00519397', 'USC00513117'),\n",
       " ('USC00519397', 'USC00514830'),\n",
       " ('USC00519397', 'USC00517948'),\n",
       " ('USC00519397', 'USC00518838'),\n",
       " ('USC00519397', 'USC00519523'),\n",
       " ('USC00519397', 'USC00519281'),\n",
       " ('USC00519397', 'USC00511918'),\n",
       " ('USC00519397', 'USC00516128'),\n",
       " ('USC00519397', 'USC00519397'),\n",
       " ('USC00519397', 'USC00513117'),\n",
       " ('USC00519397', 'USC00514830'),\n",
       " ('USC00519397', 'USC00517948'),\n",
       " ('USC00519397', 'USC00518838'),\n",
       " ('USC00519397', 'USC00519523'),\n",
       " ('USC00519397', 'USC00519281'),\n",
       " ('USC00519397', 'USC00511918'),\n",
       " ('USC00519397', 'USC00516128'),\n",
       " ('USC00519397', 'USC00519397'),\n",
       " ('USC00519397', 'USC00513117'),\n",
       " ('USC00519397', 'USC00514830'),\n",
       " ('USC00519397', 'USC00517948'),\n",
       " ('USC00519397', 'USC00518838'),\n",
       " ('USC00519397', 'USC00519523'),\n",
       " ('USC00519397', 'USC00519281'),\n",
       " ('USC00519397', 'USC00511918'),\n",
       " ('USC00519397', 'USC00516128'),\n",
       " ('USC00519397', 'USC00519397'),\n",
       " ('USC00519397', 'USC00513117'),\n",
       " ('USC00519397', 'USC00514830'),\n",
       " ('USC00519397', 'USC00517948'),\n",
       " ('USC00519397', 'USC00518838'),\n",
       " ('USC00519397', 'USC00519523'),\n",
       " ('USC00519397', 'USC00519281'),\n",
       " ('USC00519397', 'USC00511918'),\n",
       " ('USC00519397', 'USC00516128'),\n",
       " ('USC00519397', 'USC00519397'),\n",
       " ('USC00519397', 'USC00513117'),\n",
       " ('USC00519397', 'USC00514830'),\n",
       " ('USC00519397', 'USC00517948'),\n",
       " ('USC00519397', 'USC00518838'),\n",
       " ('USC00519397', 'USC00519523'),\n",
       " ('USC00519397', 'USC00519281'),\n",
       " ('USC00519397', 'USC00511918'),\n",
       " ('USC00519397', 'USC00516128'),\n",
       " ('USC00519397', 'USC00519397'),\n",
       " ('USC00519397', 'USC00513117'),\n",
       " ('USC00519397', 'USC00514830'),\n",
       " ('USC00519397', 'USC00517948'),\n",
       " ('USC00519397', 'USC00518838'),\n",
       " ('USC00519397', 'USC00519523'),\n",
       " ('USC00519397', 'USC00519281'),\n",
       " ('USC00519397', 'USC00511918'),\n",
       " ('USC00519397', 'USC00516128'),\n",
       " ('USC00519397', 'USC00519397'),\n",
       " ('USC00519397', 'USC00513117'),\n",
       " ('USC00519397', 'USC00514830'),\n",
       " ('USC00519397', 'USC00517948'),\n",
       " ('USC00519397', 'USC00518838'),\n",
       " ('USC00519397', 'USC00519523'),\n",
       " ('USC00519397', 'USC00519281'),\n",
       " ('USC00519397', 'USC00511918'),\n",
       " ('USC00519397', 'USC00516128'),\n",
       " ('USC00519397', 'USC00519397'),\n",
       " ('USC00519397', 'USC00513117'),\n",
       " ('USC00519397', 'USC00514830'),\n",
       " ('USC00519397', 'USC00517948'),\n",
       " ('USC00519397', 'USC00518838'),\n",
       " ('USC00519397', 'USC00519523'),\n",
       " ('USC00519397', 'USC00519281'),\n",
       " ('USC00519397', 'USC00511918'),\n",
       " ('USC00519397', 'USC00516128'),\n",
       " ('USC00519397', 'USC00519397'),\n",
       " ('USC00519397', 'USC00513117'),\n",
       " ('USC00519397', 'USC00514830'),\n",
       " ('USC00519397', 'USC00517948'),\n",
       " ('USC00519397', 'USC00518838'),\n",
       " ('USC00519397', 'USC00519523'),\n",
       " ('USC00519397', 'USC00519281'),\n",
       " ('USC00519397', 'USC00511918'),\n",
       " ('USC00519397', 'USC00516128'),\n",
       " ('USC00519397', 'USC00519397'),\n",
       " ('USC00519397', 'USC00513117'),\n",
       " ('USC00519397', 'USC00514830'),\n",
       " ('USC00519397', 'USC00517948'),\n",
       " ('USC00519397', 'USC00518838'),\n",
       " ('USC00519397', 'USC00519523'),\n",
       " ('USC00519397', 'USC00519281'),\n",
       " ('USC00519397', 'USC00511918'),\n",
       " ('USC00519397', 'USC00516128'),\n",
       " ('USC00519397', 'USC00519397'),\n",
       " ('USC00519397', 'USC00513117'),\n",
       " ('USC00519397', 'USC00514830'),\n",
       " ('USC00519397', 'USC00517948'),\n",
       " ('USC00519397', 'USC00518838'),\n",
       " ('USC00519397', 'USC00519523'),\n",
       " ('USC00519397', 'USC00519281'),\n",
       " ('USC00519397', 'USC00511918'),\n",
       " ('USC00519397', 'USC00516128'),\n",
       " ('USC00519397', 'USC00519397'),\n",
       " ('USC00519397', 'USC00513117'),\n",
       " ('USC00519397', 'USC00514830'),\n",
       " ('USC00519397', 'USC00517948'),\n",
       " ('USC00519397', 'USC00518838'),\n",
       " ('USC00519397', 'USC00519523'),\n",
       " ('USC00519397', 'USC00519281'),\n",
       " ('USC00519397', 'USC00511918'),\n",
       " ('USC00519397', 'USC00516128'),\n",
       " ('USC00519397', 'USC00519397'),\n",
       " ('USC00519397', 'USC00513117'),\n",
       " ('USC00519397', 'USC00514830'),\n",
       " ('USC00519397', 'USC00517948'),\n",
       " ('USC00519397', 'USC00518838'),\n",
       " ('USC00519397', 'USC00519523'),\n",
       " ('USC00519397', 'USC00519281'),\n",
       " ('USC00519397', 'USC00511918'),\n",
       " ('USC00519397', 'USC00516128'),\n",
       " ('USC00519397', 'USC00519397'),\n",
       " ('USC00519397', 'USC00513117'),\n",
       " ('USC00519397', 'USC00514830'),\n",
       " ('USC00519397', 'USC00517948'),\n",
       " ('USC00519397', 'USC00518838'),\n",
       " ('USC00519397', 'USC00519523'),\n",
       " ('USC00519397', 'USC00519281'),\n",
       " ('USC00519397', 'USC00511918'),\n",
       " ('USC00519397', 'USC00516128'),\n",
       " ('USC00519397', 'USC00519397'),\n",
       " ('USC00519397', 'USC00513117'),\n",
       " ('USC00519397', 'USC00514830'),\n",
       " ('USC00519397', 'USC00517948'),\n",
       " ('USC00519397', 'USC00518838'),\n",
       " ('USC00519397', 'USC00519523'),\n",
       " ('USC00519397', 'USC00519281'),\n",
       " ('USC00519397', 'USC00511918'),\n",
       " ('USC00519397', 'USC00516128'),\n",
       " ('USC00519397', 'USC00519397'),\n",
       " ('USC00519397', 'USC00513117'),\n",
       " ('USC00519397', 'USC00514830'),\n",
       " ('USC00519397', 'USC00517948'),\n",
       " ('USC00519397', 'USC00518838'),\n",
       " ('USC00519397', 'USC00519523'),\n",
       " ('USC00519397', 'USC00519281'),\n",
       " ('USC00519397', 'USC00511918'),\n",
       " ('USC00519397', 'USC00516128'),\n",
       " ('USC00519397', 'USC00519397'),\n",
       " ('USC00519397', 'USC00513117'),\n",
       " ('USC00519397', 'USC00514830'),\n",
       " ('USC00519397', 'USC00517948'),\n",
       " ('USC00519397', 'USC00518838'),\n",
       " ('USC00519397', 'USC00519523'),\n",
       " ('USC00519397', 'USC00519281'),\n",
       " ('USC00519397', 'USC00511918'),\n",
       " ('USC00519397', 'USC00516128'),\n",
       " ('USC00519397', 'USC00519397'),\n",
       " ('USC00519397', 'USC00513117')]"
      ]
     },
     "execution_count": 193,
     "metadata": {},
     "output_type": "execute_result"
    }
   ],
   "source": [
    "session.query(Measurement.station, Station.station).limit(200).all()"
   ]
  },
  {
   "cell_type": "code",
   "execution_count": 227,
   "metadata": {},
   "outputs": [],
   "source": [
    "M_stations = session.query(Measurement).limit(100000).all()\n",
    "S_stations = session.query(Station).limit(100000).all()\n",
    "M_list = []\n",
    "S_list = []"
   ]
  },
  {
   "cell_type": "code",
   "execution_count": 230,
   "metadata": {},
   "outputs": [],
   "source": [
    "for record in M_stations:\n",
    "    (Measurement) = record\n",
    "    M_list.append(Measurement.station)"
   ]
  },
  {
   "cell_type": "code",
   "execution_count": 231,
   "metadata": {},
   "outputs": [],
   "source": [
    "for record in S_stations:\n",
    "    (Station) = record\n",
    "    S_list.append(Station.station)"
   ]
  },
  {
   "cell_type": "code",
   "execution_count": 232,
   "metadata": {},
   "outputs": [],
   "source": [
    "full_list = M_list + S_list"
   ]
  },
  {
   "cell_type": "code",
   "execution_count": 233,
   "metadata": {},
   "outputs": [
    {
     "data": {
      "text/plain": [
       "9"
      ]
     },
     "execution_count": 233,
     "metadata": {},
     "output_type": "execute_result"
    }
   ],
   "source": [
    "# Design a query to show how many stations are available in this dataset?\n",
    "len(set(full_list))"
   ]
  },
  {
   "cell_type": "code",
   "execution_count": 281,
   "metadata": {},
   "outputs": [
    {
     "name": "stdout",
     "output_type": "stream",
     "text": [
      "USC00519281 2773\n",
      "USC00519397 2725\n",
      "USC00513117 2710\n",
      "USC00519523 2670\n",
      "USC00516128 2613\n",
      "USC00514830 2203\n",
      "USC00511918 1980\n",
      "USC00517948 1373\n",
      "USC00518838 512\n"
     ]
    }
   ],
   "source": [
    "# What are the most active stations? (i.e. what stations have the most rows)?\n",
    "# List the stations and the counts in descending order.\n",
    "\n",
    "most_active = []\n",
    "\n",
    "mostcommon = Counter(full_list)\n",
    "for i,j in mostcommon.most_common(100):\n",
    "    print(i,j)"
   ]
  },
  {
   "cell_type": "code",
   "execution_count": 276,
   "metadata": {},
   "outputs": [],
   "source": [
    "sel1 = [Measurement.date, func.max(Measurement.tobs)]\n",
    "tobs = session.query(*sel1).filter(func.strftime(\"%Y/%m\", Measurement.date) >= \"2016/08\").group_by(Measurement.tobs).order_by(Measurement.date).all()"
   ]
  },
  {
   "cell_type": "code",
   "execution_count": 269,
   "metadata": {},
   "outputs": [
    {
     "data": {
      "text/plain": [
       "Text(0, 0.5, 'tobs')"
      ]
     },
     "execution_count": 269,
     "metadata": {},
     "output_type": "execute_result"
    },
    {
     "data": {
      "image/png": "[encoded data removed]",
      "text/plain": [
       "<Figure size 432x288 with 1 Axes>"
      ]
     },
     "metadata": {},
     "output_type": "display_data"
    }
   ],
   "source": [
    "x = np.random.normal(size = 1000)\n",
    "plt.hist(x, normed=True, bins=12)\n",
    "plt.ylabel('tobs')"
   ]
  },
  {
   "cell_type": "code",
   "execution_count": 289,
   "metadata": {},
   "outputs": [],
   "source": [
    "from flask import Flask, jsonify\n",
    "app = Flask(__name__)"
   ]
  },
  {
   "cell_type": "code",
   "execution_count": 290,
   "metadata": {},
   "outputs": [],
   "source": [
    "@app.route(\"/\")\n",
    "def routes():\n",
    "    \"\"\"Home Page\n",
    "    All Available Routes\"\"\"\n",
    "    return jsonify(full_list)"
   ]
  },
  {
   "cell_type": "code",
   "execution_count": 295,
   "metadata": {},
   "outputs": [],
   "source": [
    "@app.route(\"/precipitation\")\n",
    "def raindays():\n",
    "    \"\"\"Home Page\n",
    "    All Available Routes\"\"\"\n",
    "    return jsonify(tobs)"
   ]
  },
  {
   "cell_type": "code",
   "execution_count": 297,
   "metadata": {},
   "outputs": [],
   "source": [
    "@app.route(\"/stations\")\n",
    "def stations():\n",
    "    \"\"\"Home Page\n",
    "    All Available Routes\"\"\"\n",
    "    return jsonify(full_list)"
   ]
  },
  {
   "cell_type": "code",
   "execution_count": null,
   "metadata": {},
   "outputs": [],
   "source": [
    "if __name__ == \"__main__\":\n",
    "    app.run(debug=True)"
   ]
  }
 ],
 "metadata": {
  "kernelspec": {
   "display_name": "Python 3",
   "language": "python",
   "name": "python3"
  },
  "language_info": {
   "codemirror_mode": {
    "name": "ipython",
    "version": 3
   },
   "file_extension": ".py",
   "mimetype": "text/x-python",
   "name": "python",
   "nbconvert_exporter": "python",
   "pygments_lexer": "ipython3",
   "version": "3.7.1"
  }
 },
 "nbformat": 4,
 "nbformat_minor": 2
}
